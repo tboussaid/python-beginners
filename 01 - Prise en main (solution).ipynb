{
 "cells": [
  {
   "cell_type": "markdown",
   "id": "ee77a711",
   "metadata": {},
   "source": [
    "# Introduction et prise en main"
   ]
  },
  {
   "cell_type": "markdown",
   "id": "f88c9aaa",
   "metadata": {},
   "source": [
    "Le but de cette première partie est de prendre en main le langage via des manipulations simples avant d'implémenter quelques fonctions"
   ]
  },
  {
   "cell_type": "markdown",
   "id": "424720d6",
   "metadata": {},
   "source": [
    "## Variables et calculs\n",
    "\n",
    "La librairie standard de Python fournit plusieurs types de données élémentaires tel que des entiers (int), des booléens (bool), des nombres à virgule flottante (float) ou des chaines de caractères (string)."
   ]
  },
  {
   "cell_type": "markdown",
   "id": "3ab0d060",
   "metadata": {},
   "source": [
    "### Chaînes de caractères\n",
    "A votre avis, quelle est la sortie de la prochaine cellule ?"
   ]
  },
  {
   "cell_type": "code",
   "execution_count": 1,
   "id": "799b8f70",
   "metadata": {},
   "outputs": [],
   "source": [
    "age = \"J'ai 20 ans\"\n",
    "# age+1 ==> TypeError: can only concatenate str (not \"int\") to str"
   ]
  },
  {
   "cell_type": "markdown",
   "id": "002dac8d",
   "metadata": {},
   "source": [
    "Comment peut-on inclure le caractère \" dans un chaîne de caractères ?\n",
    "\n",
    "Corrigez la cellule ci-dessous"
   ]
  },
  {
   "cell_type": "code",
   "execution_count": 2,
   "id": "86f41ea9",
   "metadata": {},
   "outputs": [
    {
     "data": {
      "text/plain": [
       "'On est le \"07/12/2023\"'"
      ]
     },
     "execution_count": 2,
     "metadata": {},
     "output_type": "execute_result"
    }
   ],
   "source": [
    "date = 'On est le \"07/12/2023\"'\n",
    "date"
   ]
  },
  {
   "cell_type": "markdown",
   "id": "fff4e2ec",
   "metadata": {},
   "source": [
    "### Arithmétique\n",
    "Proposez un calcul simple qui permet de vérifier que l'ordre des opérations mathématiques (+, -, / ...) est respecté sous Python"
   ]
  },
  {
   "cell_type": "code",
   "execution_count": 3,
   "id": "8332b25d",
   "metadata": {},
   "outputs": [
    {
     "data": {
      "text/plain": [
       "0.0"
      ]
     },
     "execution_count": 3,
     "metadata": {},
     "output_type": "execute_result"
    }
   ],
   "source": [
    "8 - (3 * 2) - (1 + 3/3)"
   ]
  },
  {
   "cell_type": "markdown",
   "id": "65dc96fe",
   "metadata": {},
   "source": [
    "On souhaite convertir la hauteur de deux blocs en mètre. Le calcul suivant est erroné, corrigez le."
   ]
  },
  {
   "cell_type": "code",
   "execution_count": 4,
   "id": "f312c3fa",
   "metadata": {},
   "outputs": [
    {
     "data": {
      "text/plain": [
       "1.72"
      ]
     },
     "execution_count": 4,
     "metadata": {},
     "output_type": "execute_result"
    }
   ],
   "source": [
    "bloc_1_en_cm = 50\n",
    "bloc_2_en_cm = 122\n",
    "hauteur_totale_en_m = (bloc_1_en_cm + bloc_2_en_cm) / 100  # Il faut ajouter les parenthèses\n",
    "hauteur_totale_en_m"
   ]
  },
  {
   "cell_type": "markdown",
   "id": "4cde1366",
   "metadata": {},
   "source": [
    "Ajoutez du code à la cellule suivante pour échanger les variables `a` et `b` (de sorte que `a` fasse référence à l'objet précédemment référencé par `b` et vice versa)."
   ]
  },
  {
   "cell_type": "code",
   "execution_count": 5,
   "id": "265cbc1d",
   "metadata": {},
   "outputs": [
    {
     "name": "stdout",
     "output_type": "stream",
     "text": [
      "102 50\n",
      "50 102\n"
     ]
    }
   ],
   "source": [
    "a = 102\n",
    "b = 50\n",
    "print(a,b)\n",
    "\n",
    "a,b=b,a\n",
    "print(a,b)\n",
    "\n",
    "# ou créer une variable intermédiaire"
   ]
  },
  {
   "cell_type": "markdown",
   "id": "008f9f37",
   "metadata": {},
   "source": [
    "Alice, Bob et Carol ont convenu de mettre en commun leurs bonbons d'Halloween et de les partager équitablement entre eux.\n",
    "Pour le bien de leur amitié, tous les bonbons restants seront brisés. Par exemple, s’ils rapportent collectivement à la maison 91 bonbons, ils en prendront 30 chacun et en briseront 1.\n",
    "\n",
    "Écrivez une expression arithmétique ci-dessous pour calculer combien de bonbons ils doivent briser pour une récolte donnée."
   ]
  },
  {
   "cell_type": "code",
   "execution_count": 6,
   "id": "d133c88b",
   "metadata": {},
   "outputs": [],
   "source": [
    "alice_candies = 121\n",
    "bob_candies = 77\n",
    "carol_candies = 109\n",
    "\n",
    "to_smash = (alice_candies + bob_candies + carol_candies)%3"
   ]
  },
  {
   "cell_type": "markdown",
   "id": "09948633",
   "metadata": {},
   "source": [
    "🌶️ La loi dite de Planck, permet d’obtenir de façon analytique ces densités de flux spectrales. Elle s’exprime comme :\n",
    "$$\n",
    "\\phi_{\\lambda}^0(T) = \\frac{C_1}{\\lambda^5} \\frac{1}{\\text{exp}\\left(\\frac{C_2}{\\lambda T}\\right)-1}\n",
    "$$\n",
    "\n",
    "Avec $C_1=3.742\\times10^8~W.m^{-2}.\\mu m^4$ et $C_2=14388~\\mu m.K$\n",
    "\n",
    "Implémenter une **fonction** qui calcule $\\phi_{\\lambda}^0(T)$ et qui prend comme arguments $\\lambda$ et $T$.\n",
    "Vous pouvez vous aider de la fonction `math.exp()`\n",
    "\n",
    "Pour éviter d'éventuelles erreurs numériques, la fonction donnera $\\phi_{\\lambda}^0(T)=0$ pour $\\lambda \\times T < 50~\\mu m.K$"
   ]
  },
  {
   "cell_type": "code",
   "execution_count": 7,
   "id": "254343db",
   "metadata": {},
   "outputs": [],
   "source": [
    "import math\n",
    "\n",
    "def planck_law(wave_length:float, temp:float)->float:\n",
    "    \"\"\"\n",
    "    Computes the spectral flux density derived from Planck's law and depending on two parameters\n",
    "    Args:\n",
    "        wave_length (in micrometers): wave length\n",
    "        temp (in K): temperature of the radiant body\n",
    "    \"\"\"\n",
    "    c_1 = 3.742*10**8\n",
    "    c_2 = 14388\n",
    "    \n",
    "    if wave_length*temp<50:\n",
    "        return 0\n",
    "    else:\n",
    "        term_1 = c_1/wave_length**5\n",
    "        term_2 = math.exp(c_2/(wave_length*temp))-1\n",
    "        return term_1/term_2"
   ]
  },
  {
   "cell_type": "code",
   "execution_count": 8,
   "id": "de962d02",
   "metadata": {},
   "outputs": [
    {
     "name": "stdout",
     "output_type": "stream",
     "text": [
      "Help on function planck_law in module __main__:\n",
      "\n",
      "planck_law(wave_length: float, temp: float) -> float\n",
      "    Computes the spectral flux density derived from Planck's law and depending on two parameters\n",
      "    Args:\n",
      "        wave_length (in micrometers): wave length\n",
      "        temp (in K): temperature of the radiant body\n",
      "\n"
     ]
    }
   ],
   "source": [
    "help(planck_law)"
   ]
  },
  {
   "cell_type": "markdown",
   "id": "8f46f9f5",
   "metadata": {},
   "source": [
    "Utiliser la fonction implémentée précédemment pour calcule la densité de flux spéctrale pour $\\lambda=1.5\\mu m$ et $T=1500K$"
   ]
  },
  {
   "cell_type": "code",
   "execution_count": 9,
   "id": "0345d576",
   "metadata": {},
   "outputs": [
    {
     "data": {
      "text/plain": [
       "82452.74364681769"
      ]
     },
     "execution_count": 9,
     "metadata": {},
     "output_type": "execute_result"
    }
   ],
   "source": [
    "planck_law(wave_length=1.5, temp=1500)"
   ]
  },
  {
   "cell_type": "markdown",
   "id": "20c6130b",
   "metadata": {},
   "source": [
    "## Listes, tuples, dictionnaires et boucles\n",
    "\n",
    "Python permet la compréhension de listes nativement. Regardez l'expression Python ci-dessous. Que pensez-vous que nous obtiendrons lorsque nous l'exécuterons ? Lorsque vous avez fait votre prédiction, décommentez le code et exécutez la cellule pour voir si vous aviez raison."
   ]
  },
  {
   "cell_type": "code",
   "execution_count": 10,
   "id": "6bd7cf8c",
   "metadata": {},
   "outputs": [],
   "source": [
    "# [1, 2, 3, 4] > 2\n",
    "# '>' not supported between instances of 'list' and 'int'"
   ]
  },
  {
   "cell_type": "markdown",
   "id": "4b21b6db",
   "metadata": {},
   "source": [
    "Compléter la fonction ci-dessous selon la `docstring` déjà spécifiée."
   ]
  },
  {
   "cell_type": "code",
   "execution_count": 11,
   "id": "4aef4c3c",
   "metadata": {},
   "outputs": [],
   "source": [
    "def select_second(liste):\n",
    "    \"\"\"\n",
    "    Return the second element on the given list. If the list has no second element, return None.\n",
    "    \"\"\"\n",
    "    \n",
    "    return liste[1] if len(liste)>=2 else None"
   ]
  },
  {
   "cell_type": "markdown",
   "id": "b142066f",
   "metadata": {},
   "source": [
    "Ecrire une fonction qui renvoie la moyenne de tous les termes d'une liste donnée en argument.\n",
    "\n",
    "Vous proposerez deux implémentations :\n",
    "\n",
    "* La première en utilisant une boucle `for`\n",
    "* La deuxième en utilisant la fonction native `sum()` de Python"
   ]
  },
  {
   "cell_type": "code",
   "execution_count": 13,
   "id": "423e2217",
   "metadata": {},
   "outputs": [],
   "source": [
    "def moyenne_with_for(liste):\n",
    "    \n",
    "    # initialisation de la moyenne\n",
    "    m=0\n",
    "    for x in liste:\n",
    "        m = m + x\n",
    "    # calcul final\n",
    "    m = m / len(liste)\n",
    "    \n",
    "    return m\n",
    "\n",
    "def moyenne_with_sum(liste):\n",
    "\n",
    "    return sum(liste)/len(liste)  # c'est beau en une seule ligne ^^"
   ]
  },
  {
   "cell_type": "markdown",
   "id": "fc06ed13",
   "metadata": {},
   "source": [
    "🌶️ Vous analysez des équipes sportives. Les membres de chaque équipe sont stockés dans un **dictionnaire**. L'entraîneur est stocké via la clé `coach`, et les autres joueurs sont stockés dans une liste via la clé `players`, sachant que le capitaine est le premier nom de la liste et les autres joueurs sont répertoriés après. Ces dictionnaires sont stockés dans une autre liste, qui commence par la meilleure équipe et continue jusqu'à la pire équipe en dernier. \n",
    "\n",
    "Remplissez la fonction ci-dessous pour sélectionner l'entraîneur et le capitaine de la pire équipe."
   ]
  },
  {
   "cell_type": "code",
   "execution_count": 14,
   "id": "548a009e",
   "metadata": {},
   "outputs": [],
   "source": [
    "def losing_team_coach_and_captain(teams):\n",
    "    \"\"\"\n",
    "    Given a list of teams, where each team is a dictionary of two keys: coach and players. The key players holds a list of names.\n",
    "    Returns the name of the coach, and the captain (1st player) for the last team.\n",
    "    \"\"\"\n",
    "    last_team = teams[-1]\n",
    "    coach = last_team['coach']\n",
    "    captain = last_team['players'][0]\n",
    "    \n",
    "    return coach, captain"
   ]
  },
  {
   "cell_type": "markdown",
   "id": "19bbfd57",
   "metadata": {},
   "source": [
    "# 🌶️ Exercices synthétiques\n",
    "\n",
    "### Chaîne de caractères, le retour"
   ]
  },
  {
   "cell_type": "markdown",
   "id": "11bf15b2",
   "metadata": {},
   "source": [
    "Ecrire une fonction qui a pour argument une chaîne de caractères et qui retourne un dictionnaire comportant le nombre d'occurrences de chaque caractère.\n",
    "\n",
    "Exemple :\n",
    "\n",
    "```python\n",
    ">>> calcul_occurrences('aAabc__')  \n",
    "    {'a':3, 'b':1, 'c':1, '_':2}\n",
    "```\n",
    "\n",
    "La fonction doit ignorer majuscules/minuscules ainsi que les espaces. Vous pouvez vous aider des fonctions `replace()`, `lower()` et `count` du module `string` natif de Python."
   ]
  },
  {
   "cell_type": "code",
   "execution_count": 15,
   "id": "ba12273c",
   "metadata": {},
   "outputs": [],
   "source": [
    "import string\n",
    "\n",
    "def calcul_occurrences(mot):\n",
    "    \n",
    "    # On enlève les espaces\n",
    "    mot = mot.replace(\" \", \"\")\n",
    "    # On met tout en minuscule\n",
    "    mot = mot.lower()\n",
    "    \n",
    "    # On utilise ensuite count() et une compréhension\n",
    "    return {char: mot.count(char) for char in mot}"
   ]
  },
  {
   "cell_type": "code",
   "execution_count": 16,
   "id": "754f892f",
   "metadata": {},
   "outputs": [
    {
     "data": {
      "text/plain": [
       "{'a': 3, 'b': 1, 'c': 1, '_': 2}"
      ]
     },
     "execution_count": 16,
     "metadata": {},
     "output_type": "execute_result"
    }
   ],
   "source": [
    "calcul_occurrences('aAabc__')"
   ]
  },
  {
   "cell_type": "markdown",
   "id": "d9f970f8",
   "metadata": {},
   "source": [
    "### Approximation de la racine carrée\n",
    "\n",
    "La suite de Héron est une suite permettant de trouver une valeur approchée d’une racine carrée.\n",
    "\n",
    "On définit la suite $\\left(u_n\\right)_{n \\in \\mathbb{N}}$ définie par son premier terme $u_0 > 0$ et par la relationd de récurrence suivante :\n",
    "$$\n",
    "u_{n+1} = \\frac{1}{2} \\left(u_n + \\frac{a}{u_n}\\right)\n",
    "$$\n",
    "\n",
    "Où $a$ est un réel strictement plus grand que 0. On peut démontrer que cette suite converge vers le nombre $\\sqrt{a}$. *On montre même que la convergence est quadratique.*\n",
    "\n",
    "Implémenter une fonction python qui prend deux paramètre, le nombre $a$ dont on cherche à approximer la racine à $10^{-p}$ près.\n",
    "\n",
    "La fonction devra retourner la valeur de la racine approximée ainsi que le nombre d'itérations effectuées afin d'atteindre la précision souhaitée. Le critère d'arrêt portera sur l'écart en valeur absolu $|u_{n+1}-u_n|$."
   ]
  },
  {
   "cell_type": "code",
   "execution_count": 17,
   "id": "fead9500",
   "metadata": {},
   "outputs": [],
   "source": [
    "def heron(a, p):\n",
    "    \n",
    "    # initialisation du compteur\n",
    "    n=0\n",
    "    # terme initial\n",
    "    u_prec = 5\n",
    "    # on initialise l'erreur\n",
    "    delta = 10\n",
    "    # on définit la précision souhaitée\n",
    "    tol = 10**(-p)\n",
    "    \n",
    "    while delta >= tol:\n",
    "        u_n = 0.5*(u_prec + a/u_prec)\n",
    "        delta = abs(u_prec-u_n)\n",
    "        u_prec = u_n\n",
    "        n += 1\n",
    "        \n",
    "    return u_n, n"
   ]
  },
  {
   "cell_type": "code",
   "execution_count": 18,
   "id": "e67e0e73",
   "metadata": {},
   "outputs": [
    {
     "data": {
      "text/plain": [
       "(1.414213562373095, 7)"
      ]
     },
     "execution_count": 18,
     "metadata": {},
     "output_type": "execute_result"
    }
   ],
   "source": [
    "heron(2,8)"
   ]
  }
 ],
 "metadata": {
  "kernelspec": {
   "display_name": "Python 3 (ipykernel)",
   "language": "python",
   "name": "python3"
  },
  "language_info": {
   "codemirror_mode": {
    "name": "ipython",
    "version": 3
   },
   "file_extension": ".py",
   "mimetype": "text/x-python",
   "name": "python",
   "nbconvert_exporter": "python",
   "pygments_lexer": "ipython3",
   "version": "3.9.13"
  }
 },
 "nbformat": 4,
 "nbformat_minor": 5
}
