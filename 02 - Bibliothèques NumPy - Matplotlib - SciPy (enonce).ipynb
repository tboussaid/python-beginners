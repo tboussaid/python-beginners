{
 "cells": [
  {
   "cell_type": "markdown",
   "id": "ee77a711",
   "metadata": {},
   "source": [
    "# Utilisation des bibliothèques \"scientifiques\""
   ]
  },
  {
   "cell_type": "markdown",
   "id": "f88c9aaa",
   "metadata": {},
   "source": [
    "Le but de ce deuxième notebook est de mettre en oeuvre les différents modules proposés par la bibliothèque `NumPy` (Numerical Python), `Matplotlib` (pour le tracé des figures) et `SciPy` (Scientific Python).\n",
    "\n",
    "On commence par importer ces *packages*"
   ]
  },
  {
   "cell_type": "code",
   "execution_count": null,
   "id": "1d8e4d05",
   "metadata": {},
   "outputs": [],
   "source": [
    "# to make the plots appear and be stored within the notebook\n",
    "%matplotlib inline\n",
    "\n",
    "import math\n",
    "import numpy as np\n",
    "import matplotlib.pyplot as plt\n",
    "import scipy as sp\n",
    "from scipy import signal"
   ]
  },
  {
   "cell_type": "markdown",
   "id": "fff4eb81",
   "metadata": {},
   "source": [
    "## Vectoriser les opérations\n",
    "\n",
    "Une bonne utilisation de la bibliothèque NumPy consiste à fair le moins de boucles `for` pour effectuer des opérations sur les matrices et les vecteurs. En réalité, cette librairie offre des opérations \"vectorisées\". L'exemple le plus simple est l'addition d'un scalaire à un vecteur :\n",
    "```python\n",
    "import numpy as np\n",
    "\n",
    "mat = np.array([1, 2, 3, 4])\n",
    "scl = 10 \n",
    "res = mat + scl\n",
    "print(res)\n",
    ">>> [11, 12, 13, 14]\n",
    "```\n",
    "\n",
    "Si on voulait faire cette opération sans utiliser NumPy, on aurait eu besoin d'utiliser une boucle `for`...\n",
    "\n",
    "Vectoriser le code ci-dessous :"
   ]
  },
  {
   "cell_type": "code",
   "execution_count": null,
   "id": "a66e50ab",
   "metadata": {},
   "outputs": [],
   "source": [
    "n = 20\n",
    "x_loop, y_loop = np.zeros(n), np.zeros(n)\n",
    "dx = 2.0/(n-1)\n",
    "for i in range(n):\n",
    "    x_loop[i] = -1 + dx*i\n",
    "    y_loop[i] = math.exp(-x_loop[i])*x_loop[i]"
   ]
  },
  {
   "cell_type": "code",
   "execution_count": null,
   "id": "8bfd2f60",
   "metadata": {},
   "outputs": [],
   "source": [
    "x = ###\n",
    "y = ###\n",
    "\n",
    "print(np.array_equal(x_loop, x))\n",
    "print(np.array_equal(y_loop, y))"
   ]
  },
  {
   "cell_type": "markdown",
   "id": "424720d6",
   "metadata": {},
   "source": [
    "## Densités de flux spectrales\n",
    "\n",
    "Lors de la première séance, vous avez implémenté la fonction `planck_law(wave_length, temp)` qui permet de calculer la densité de flux spectrale en fonction de $\\lambda$ et $T$. On la redéfinit ci-dessous.\n",
    "\n",
    "*Vous remarquerez que nous avons cette fois-ci utilisé* `np.exp` *au lieu de* `math.exp`*, bien sûr le résultat est le même*"
   ]
  },
  {
   "cell_type": "code",
   "execution_count": null,
   "id": "40d2dd86",
   "metadata": {},
   "outputs": [],
   "source": [
    "def planck_law(wave_length:float, temp:float)->float:\n",
    "    \"\"\"\n",
    "    Computes the spectral flux density derived from Planck's law and depending on two parameters\n",
    "    Args:\n",
    "        wave_length (in micrometers): wave length\n",
    "        temp (in K): temperature of the radiant body\n",
    "    \"\"\"\n",
    "    c_1 = 3.742*10**8\n",
    "    c_2 = 14388\n",
    "    \n",
    "    if wave_length*temp<50:\n",
    "        return 0\n",
    "    else:\n",
    "        term_1 = c_1/wave_length**5\n",
    "        term_2 = np.exp(c_2/(wave_length*temp))-1\n",
    "        return term_1/term_2"
   ]
  },
  {
   "cell_type": "markdown",
   "id": "713bdb4b",
   "metadata": {},
   "source": [
    "### Tracé des densités spectrales en fonction de $\\lambda$ et $T$\n",
    "\n",
    "Grâce aux fonctions `np.arange` et `planck_law` créer deux variables `x` et `phi` telles que :\n",
    "\n",
    "* `x` : doit contenir les valeurs des longueurs d'onde dans $[0.1;~10]~\\mu m$ avec un pas de $0.05 \\mu m$ (*la valeur $3~\\mu m$ doit être inclue dans x*).\n",
    "* `phi` : une liste qui contient la valeur de denisté de flux spectrale $\\phi_{\\lambda}^0(T)$ correspondant à chaque $\\lambda$ dans `x`. On prendra $T=1500~K$."
   ]
  },
  {
   "cell_type": "code",
   "execution_count": null,
   "id": "9036225f",
   "metadata": {},
   "outputs": [],
   "source": [
    "x = ###\n",
    "phi = ###"
   ]
  },
  {
   "cell_type": "markdown",
   "id": "adce17a4",
   "metadata": {},
   "source": [
    "A l'aide de la bibliothèque Matplotlib et notamment la fonction `plot`, tracez l'évolution de $\\phi_{\\lambda}^0(T)$ en fonction de $\\lambda$.\\\\\n",
    "Pensez à bien mettre les titres des axes, le titre de la figure ainsi que d'afficher la grille. Aidez vous de la documentation [en ligne](https://matplotlib.org/stable/api/_as_gen/matplotlib.pyplot.plot.html) !"
   ]
  },
  {
   "cell_type": "code",
   "execution_count": null,
   "id": "7618150a",
   "metadata": {},
   "outputs": [],
   "source": [
    "###"
   ]
  },
  {
   "cell_type": "markdown",
   "id": "ee3b2e2d",
   "metadata": {},
   "source": [
    "### Densité de flux totale émise par le corps noir\n",
    "\n",
    "La densité de flux totale émise par le corps noir se calcule en intégrant la loi de Planck sur l’espace des longueurs d’onde et s’exprime en W.m−2 :\n",
    "$$\n",
    "\\phi^0 \\left(T\\right) = \\int_0^{+\\infty} \\phi_{\\lambda}^0(T) d \\lambda\n",
    "$$\n",
    "\n",
    "La solution analytique est donnée par : \n",
    "$$\n",
    "\\phi^0 \\left(T\\right) = \\sigma T^4\n",
    "$$\n",
    "Avec $\\sigma = 5.67.10^{-8} W.m^{-2}.K^{-4}$\n",
    "\n",
    "A l'aide de la fonction `scipy.integrate.quad` calculer $\\phi^0 \\left(T\\right)$ pour T = 300 K, T = 1500 K et T = 5780 K. Comparer avec la solution analytique. Quelle remarque peut-on faire sur l'erreur relative d'approximation ?\n",
    "\n",
    "*PS: SciPy permet le calcul d'intégrales impropres, l'argument $\\infty$* peut être appelé via `np.inf`"
   ]
  },
  {
   "cell_type": "code",
   "execution_count": null,
   "id": "79d45084",
   "metadata": {},
   "outputs": [],
   "source": [
    "from scipy import integrate\n",
    "\n",
    "###"
   ]
  },
  {
   "cell_type": "markdown",
   "id": "c6c55e77",
   "metadata": {},
   "source": [
    "## Produit de convolution\n",
    "\n",
    "La notion de produit de convolution vous a été introduite cette année lors des cours de maths. Pour rappel, soit $f$ et $g$ deux fonctions définies sur $\\mathbb{R}$. Sous réserve d'existence, on définit le produit de convolution de $f$ et $g$ comme la fonction :\n",
    "$$\n",
    "f * g : t \\longrightarrow \\int_{-\\infty}^{+\\infty} f(\\tau) g(t-\\tau) ~ d \\tau.\n",
    "$$\n",
    "\n",
    "Dans l'exercice I.14, nous avons déterminé le produit de convolution $f * f$ où :\n",
    "$$\n",
    "f : t \\longrightarrow \\left\\{ \\begin{array}{ll}\n",
    "        1  & \\text{si}~~ t \\in [-a,~a],\\\\\n",
    "        0 & \\text{sinon}.\n",
    "    \\end{array}\n",
    "    \\right.\n",
    "$$\n",
    "\n",
    "A l'aide de la fonction `convolve`du module `signal` de SciPy, réaliser ce produit de convolution et afficher les résultats obtenus à l'aide de Matplotlib (en utilisant le module `subplot`).\n",
    "\n",
    "*Vous pouvez utiliser la fonction `repeat` de NumPy afin de créer la fonction $f$*."
   ]
  },
  {
   "cell_type": "code",
   "execution_count": null,
   "id": "ff0848cc",
   "metadata": {},
   "outputs": [],
   "source": [
    "# On crée la fonction f avec une largeur de porte égale à 100 (a=50)\n",
    "###"
   ]
  },
  {
   "cell_type": "code",
   "execution_count": null,
   "id": "872a85a6",
   "metadata": {},
   "outputs": [],
   "source": [
    "# On affiche f et f*f\n",
    "###"
   ]
  },
  {
   "attachments": {
    "image.png": {
     "image/png": "[encoded data removed]"
    }
   },
   "cell_type": "markdown",
   "id": "f11b05f8",
   "metadata": {},
   "source": [
    "## 🌶️ Calcul des pertes de charge régulières\n",
    "\n",
    "Lors d'un écoulement d'un fluide dans une conduite et en l'absence de singularités (coude, obstacle...), celui-ci voit son énergie totale diminuer à cause des pertes visqueuses (frottement avec les canalisations). Cette quantité d'énergie perdue, qu'on appelle pertes de charge, peut être calculée via un bilan d'énergie sur la conduite (Th. de Bernoulli géné) :\n",
    "![image.png](attachment:image.png)\n",
    "* $J_{12}$ : pertes de charge positive entre les deux sections.\n",
    "* $H_m$ : hauteur manométrique des machines hydrauliques $\\left(\\frac{\\dot{W}}{g.\\dot{m}}\\right)$.\n",
    "* $\\alpha$ : coefficient d'énergie cinétique, c'est un facteur de correction appliqué pour tenir compte de la forme réelle du profil de vitesse dans la conduite.\n",
    "\n",
    "Il est possible de montrer que les pertes de charge peuvent se calculer via :\n",
    "$$\n",
    "J_{12} = \\lambda \\cdot \\frac{L}{D_h} \\cdot \\frac{u^2}{2g}\n",
    "$$\n",
    "\n",
    "Où $\\lambda$ représente le coefficient de pertes de charge de l'équation de Darcy-Weisbach, et qui se calcule dans le cas général via la formule implicite de Colebrook :\n",
    "$$\n",
    "\\frac{1}{\\sqrt{\\lambda}} = -2\\text{log} \\left(\\frac{\\epsilon}{3.71D} + \\frac{2.51}{\\text{Re}\\sqrt{\\lambda}} \\right)\n",
    "$$\n",
    "$$\n",
    "\\text{Re} = \\frac{\\rho u D_h}{\\mu}\n",
    "$$\n",
    "Où $\\epsilon$ est la rugosité de surface (en mm) dont l'effet est d'augmenter les pertes de charge, $D_h$ le diamètre hydraulique et $u$ la vitesse débitante au sein de la conduite.\n",
    "\n",
    "A l'aide de `scipy.optimize.fsolve` et d'autres modules utiles de NumPy, implémenter un code qui permet de calculer le coefficient de pertes de charge avec comme données d'entrées : $\\dot{m}, \\rho, \\mu, \\epsilon, D_h$"
   ]
  },
  {
   "cell_type": "code",
   "execution_count": null,
   "id": "c640e1fe",
   "metadata": {},
   "outputs": [],
   "source": [
    "from scipy.optimize import fsolve\n",
    "\n",
    "###\n",
    "\n",
    "# Example usage:\n",
    "mass_flow_example = 23.5  # kg/s\n",
    "diameter_example = 0.3  # m\n",
    "rugosity_example = 0.0015  # m\n",
    "viscosity_example = 0.001  # Pa.s\n",
    "density_example = 1000  # kg/m^3\n",
    "\n",
    "friction_factor_result = colebrook_friction_factor(\n",
    "    m=mass_flow_example, \n",
    "    rho=density_example,\n",
    "    mu=viscosity_example,\n",
    "    eps=rugosity_example,\n",
    "    d=diameter_example\n",
    ")\n",
    "print(f\"The Darcy friction factor is: {friction_factor_result}\")\n",
    "# La solution doit être proche de 0.0313"
   ]
  }
 ],
 "metadata": {
  "kernelspec": {
   "display_name": "Python 3 (ipykernel)",
   "language": "python",
   "name": "python3"
  },
  "language_info": {
   "codemirror_mode": {
    "name": "ipython",
    "version": 3
   },
   "file_extension": ".py",
   "mimetype": "text/x-python",
   "name": "python",
   "nbconvert_exporter": "python",
   "pygments_lexer": "ipython3",
   "version": "3.9.13"
  }
 },
 "nbformat": 4,
 "nbformat_minor": 5
}
